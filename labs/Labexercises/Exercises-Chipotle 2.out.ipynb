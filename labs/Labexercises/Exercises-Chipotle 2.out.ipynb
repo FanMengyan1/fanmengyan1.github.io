{
  "cells": [
    {
      "cell_type": "markdown",
      "metadata": {},
      "source": [
        "# Ex1 - Filtering and Sorting Data\n",
        "\n",
        "This time we are going to pull data directly from the internet. Special\n",
        "thanks to: https://github.com/justmarkham for sharing the dataset and\n",
        "materials.\n",
        "\n",
        "### Step 1. Import the necessary libraries"
      ],
      "id": "c46f715a-28d8-4d88-8ca6-d4d2e54fc9b4"
    },
    {
      "cell_type": "code",
      "execution_count": 2,
      "metadata": {},
      "outputs": [],
      "source": [
        "import pandas as pd\n",
        "import numpy as np"
      ],
      "id": "cell-3"
    },
    {
      "cell_type": "markdown",
      "metadata": {},
      "source": [
        "### Step 2. Import the dataset from this [address](https://raw.githubusercontent.com/justmarkham/DAT8/master/data/chipotle.tsv).\n",
        "\n",
        "### Step 3. Assign it to a variable called chipo."
      ],
      "id": "4e9699d1-9ac2-4500-810f-ac756eae5d96"
    },
    {
      "cell_type": "code",
      "execution_count": 3,
      "metadata": {},
      "outputs": [
        {
          "output_type": "display_data",
          "metadata": {},
          "data": {
            "text/html": [
              "\n",
              "</div>"
            ]
          }
        }
      ],
      "source": [
        "chipo = pd.read_csv('https://raw.githubusercontent.com/justmarkham/DAT8/master/data/chipotle.tsv',sep='\\t')\n",
        "chipo.head()"
      ],
      "id": "cell-6"
    },
    {
      "cell_type": "markdown",
      "metadata": {},
      "source": [
        "### Step 4. How many products cost more than \\$10.00?"
      ],
      "id": "7261b6bb-7cdb-4c9b-a2c3-ea27b604bdb9"
    },
    {
      "cell_type": "code",
      "execution_count": 4,
      "metadata": {},
      "outputs": [
        {
          "output_type": "display_data",
          "metadata": {},
          "data": {
            "text/plain": [
              "12"
            ]
          }
        }
      ],
      "source": [
        "chipo['item_price'] = chipo['item_price'].apply(lambda x:float(x[1:]))\n",
        "\n",
        "chipo_4 = chipo.drop_duplicates(['item_name','quantity'])\n",
        "\n",
        "chipo_4 = chipo_4[chipo_4.quantity == 1]\n",
        "\n",
        "chipo_4[chipo_4.item_price > 10].item_name.nunique()"
      ],
      "id": "cell-8"
    },
    {
      "cell_type": "markdown",
      "metadata": {},
      "source": [
        "### Step 5. What is the price of each item?\n",
        "\n",
        "###### print a data frame with only two columns item_name and item_price"
      ],
      "id": "51415ae7-4d37-4c04-bef5-4138963b2cce"
    },
    {
      "cell_type": "code",
      "execution_count": 5,
      "metadata": {},
      "outputs": [
        {
          "output_type": "display_data",
          "metadata": {},
          "data": {
            "text/html": [
              "\n",
              "</div>"
            ]
          }
        }
      ],
      "source": [
        "chipo_5 = chipo.drop_duplicates(['item_name'])\n",
        "chipo_5 = chipo_5[chipo_5.quantity == 1]\n",
        "chipo_5[['item_name','item_price']]"
      ],
      "id": "cell-10"
    },
    {
      "cell_type": "markdown",
      "metadata": {},
      "source": [
        "### Step 6. Sort by the name of the item"
      ],
      "id": "ffd419f4-7b1e-4728-9a15-0261391332a4"
    },
    {
      "cell_type": "code",
      "execution_count": 6,
      "metadata": {},
      "outputs": [
        {
          "output_type": "display_data",
          "metadata": {},
          "data": {
            "text/html": [
              "\n",
              "</div>"
            ]
          }
        }
      ],
      "source": [
        "chipo_5[['item_name','item_price']].sort_values(by='item_name')"
      ],
      "id": "cell-12"
    },
    {
      "cell_type": "markdown",
      "metadata": {},
      "source": [
        "### Step 7. What was the quantity of the most expensive item ordered?"
      ],
      "id": "640c1258-cb39-4c28-92b4-728d4e2abcd6"
    },
    {
      "cell_type": "code",
      "execution_count": 7,
      "metadata": {},
      "outputs": [
        {
          "output_type": "display_data",
          "metadata": {},
          "data": {
            "text/html": [
              "\n",
              "</div>"
            ]
          }
        }
      ],
      "source": [
        "chipo_5.sort_values(by='item_name').tail(1)"
      ],
      "id": "cell-14"
    },
    {
      "cell_type": "markdown",
      "metadata": {},
      "source": [
        "### Step 8. How many times was a Veggie Salad Bowl ordered?"
      ],
      "id": "f2840127-dcd9-434a-9a74-560d449a0918"
    },
    {
      "cell_type": "code",
      "execution_count": 8,
      "metadata": {},
      "outputs": [
        {
          "output_type": "display_data",
          "metadata": {},
          "data": {
            "text/plain": [
              "18"
            ]
          }
        }
      ],
      "source": [
        "len(chipo[chipo.item_name == 'Veggie Salad Bowl'])"
      ],
      "id": "cell-16"
    },
    {
      "cell_type": "markdown",
      "metadata": {},
      "source": [
        "### Step 9. How many times did someone order more than one Canned Soda?"
      ],
      "id": "56d94443-9abe-4803-8c39-8c04c2a97980"
    },
    {
      "cell_type": "code",
      "execution_count": 9,
      "metadata": {},
      "outputs": [
        {
          "output_type": "display_data",
          "metadata": {},
          "data": {
            "text/plain": [
              "20"
            ]
          }
        }
      ],
      "source": [
        "len(chipo[(chipo.item_name == 'Canned Soda') & (chipo.quantity > 1)])"
      ],
      "id": "cell-18"
    }
  ],
  "nbformat": 4,
  "nbformat_minor": 5,
  "metadata": {
    "kernelspec": {
      "name": "python3",
      "display_name": "Python 3",
      "language": "python"
    },
    "language_info": {
      "name": "python",
      "codemirror_mode": {
        "name": "ipython",
        "version": "3"
      },
      "file_extension": ".py",
      "mimetype": "text/x-python",
      "nbconvert_exporter": "python",
      "pygments_lexer": "ipython3",
      "version": "3.11.9"
    }
  }
}